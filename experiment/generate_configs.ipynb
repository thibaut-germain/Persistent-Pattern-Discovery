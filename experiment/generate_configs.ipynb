{
 "cells": [
  {
   "cell_type": "code",
   "execution_count": 13,
   "metadata": {},
   "outputs": [],
   "source": [
    "import numpy as np \n",
    "from sklearn.model_selection import ParameterGrid\n",
    "import json"
   ]
  },
  {
   "cell_type": "code",
   "execution_count": 14,
   "metadata": {},
   "outputs": [],
   "source": [
    "configs_bpp = ParameterGrid(dict(wlen = [260], n_neighbors = [5],n_patterns = [5,None],n_jobs = [10],beta = [0],alpha = [10],jump=[5]))\n",
    "#configs_bpp = [{'wlen':100,'n_patterns':5,'n_neighbors':5,'n_jobs':5,'beta':0,'alpha':10},{'wlen': 100,'jump':2,'n_neighbors':5,'n_jobs':5,'beta':0,'alpha':10}]\n",
    "configs_mp = ParameterGrid(dict(n_patterns = [5] ,radius_ratio = [3],wlen = [320],distance_name = ['NormalizedEuclidean'],n_jobs = [10]))\n",
    "configs_vm = ParameterGrid(dict(n_patterns = [5] ,radius_ratio = [3],min_wlen = [260], max_wlen = [400],step=[11],distance_name = ['NormalizedEuclidean'],n_jobs = [10]))\n",
    "configs_bl = ParameterGrid(dict(n_patterns = [5] ,radius = [5],wlen = [320],distance_name = ['NormalizedEuclidean'],n_jobs = [10]))\n",
    "configs_lm = ParameterGrid(dict(n_patterns = [5] ,radius = [5],wlen = [320], learning_rate = [0.1],n_starts = [1]))\n",
    "configs_gm = ParameterGrid(dict(n_patterns = [5], alphabet_size=[5],numerosity=[\"MINDIST\"],window_size = [320],word_size = [5]))"
   ]
  },
  {
   "cell_type": "code",
   "execution_count": 15,
   "metadata": {},
   "outputs": [],
   "source": [
    "config_dct = {\n",
    "    \"BasePersistentPattern\" : json.dumps(list(configs_bpp)),\n",
    "    #\"BasePersistentPattern\" : json.dumps(configs_bpp),\n",
    "    \"Baseline\" : json.dumps(list(configs_bl)),\n",
    "    \"LatentMotif\" : json.dumps(list(configs_lm)),\n",
    "    \"MatrixProfile\" : json.dumps(list(configs_mp)),\n",
    "    \"Valmod\" : json.dumps(list(configs_vm)),\n",
    "    \"Grammarviz\" : json.dumps(list(configs_gm)),\n",
    "}"
   ]
  },
  {
   "cell_type": "code",
   "execution_count": 16,
   "metadata": {},
   "outputs": [],
   "source": [
    "CONFIG_PATH = \"/home/germain/code/Persistent-Pattern-Discovery/experiment/ptt-ppg/configs/\"\n",
    "pth = CONFIG_PATH + f\"base_configs.json\""
   ]
  },
  {
   "cell_type": "code",
   "execution_count": 17,
   "metadata": {},
   "outputs": [],
   "source": [
    "with open(pth, \"w\") as f: \n",
    "    f = json.dump(config_dct,f)"
   ]
  },
  {
   "cell_type": "code",
   "execution_count": 18,
   "metadata": {},
   "outputs": [
    {
     "data": {
      "text/plain": [
       "{'BasePersistentPattern': '[{\"alpha\": 10, \"beta\": 0, \"jump\": 5, \"n_jobs\": 10, \"n_neighbors\": 5, \"n_patterns\": 5, \"wlen\": 260}, {\"alpha\": 10, \"beta\": 0, \"jump\": 5, \"n_jobs\": 10, \"n_neighbors\": 5, \"n_patterns\": null, \"wlen\": 260}]',\n",
       " 'Baseline': '[{\"distance_name\": \"NormalizedEuclidean\", \"n_jobs\": 10, \"n_patterns\": 5, \"radius\": 5, \"wlen\": 320}]',\n",
       " 'LatentMotif': '[{\"learning_rate\": 0.1, \"n_patterns\": 5, \"n_starts\": 1, \"radius\": 5, \"wlen\": 320}]',\n",
       " 'MatrixProfile': '[{\"distance_name\": \"NormalizedEuclidean\", \"n_jobs\": 10, \"n_patterns\": 5, \"radius_ratio\": 3, \"wlen\": 320}]',\n",
       " 'Valmod': '[{\"distance_name\": \"NormalizedEuclidean\", \"max_wlen\": 400, \"min_wlen\": 260, \"n_jobs\": 10, \"n_patterns\": 5, \"radius_ratio\": 3, \"step\": 11}]',\n",
       " 'Grammarviz': '[{\"alphabet_size\": 5, \"n_patterns\": 5, \"numerosity\": \"MINDIST\", \"window_size\": 320, \"word_size\": 5}]'}"
      ]
     },
     "execution_count": 18,
     "metadata": {},
     "output_type": "execute_result"
    }
   ],
   "source": [
    "with open(pth, \"r\") as f: \n",
    "    configs = json.load(f)\n",
    "configs"
   ]
  }
 ],
 "metadata": {
  "kernelspec": {
   "display_name": "perspa",
   "language": "python",
   "name": "python3"
  },
  "language_info": {
   "codemirror_mode": {
    "name": "ipython",
    "version": 3
   },
   "file_extension": ".py",
   "mimetype": "text/x-python",
   "name": "python",
   "nbconvert_exporter": "python",
   "pygments_lexer": "ipython3",
   "version": "3.10.12"
  },
  "orig_nbformat": 4
 },
 "nbformat": 4,
 "nbformat_minor": 2
}
