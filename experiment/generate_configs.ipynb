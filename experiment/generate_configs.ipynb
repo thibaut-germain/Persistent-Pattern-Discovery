{
 "cells": [
  {
   "cell_type": "code",
   "execution_count": 1,
   "metadata": {},
   "outputs": [],
   "source": [
    "import numpy as np \n",
    "from sklearn.model_selection import ParameterGrid\n",
    "import json"
   ]
  },
  {
   "cell_type": "code",
   "execution_count": 2,
   "metadata": {},
   "outputs": [],
   "source": [
    "configs_bpp = [{'wlen':60,'n_patterns':1,'n_neighbors':5,'n_jobs':10,'beta':0,'alpha':20},{'wlen': 60,'jump':1,'n_neighbors':5,'n_jobs':10,'beta':0,'alpha':20}]\n",
    "configs_mp = ParameterGrid(dict(n_patterns = [1] ,radius_ratio = [15],wlen = [95],distance_name = ['NormalizedEuclidean'],n_jobs = [5]))\n",
    "configs_vm = ParameterGrid(dict(n_patterns = [1] ,radius_ratio = [40],min_wlen = [80], max_wlen = [120],step=[5],distance_name = ['NormalizedEuclidean'],n_jobs = [10]))\n",
    "configs_bl = ParameterGrid(dict(n_patterns = [1] ,radius = [30],wlen = [95],distance_name = ['NormalizedEuclidean'],n_jobs = [20]))\n",
    "configs_lm = ParameterGrid(dict(n_patterns = [1] ,radius = [10],wlen = [95], learning_rate = [0.1]))\n",
    "configs_gm = ParameterGrid(dict(n_patterns =[1], alphabet_size=[4],numerosity=[\"MINDIST\"],window_size = [95],word_size = [5]))"
   ]
  },
  {
   "cell_type": "code",
   "execution_count": 3,
   "metadata": {},
   "outputs": [],
   "source": [
    "config_dct = {\n",
    "    \"BasePersistentPattern\" : json.dumps(configs_bpp),\n",
    "    \"Baseline\" : json.dumps(list(configs_bl)),\n",
    "    \"LatentMotif\" : json.dumps(list(configs_lm)),\n",
    "    \"MatrixProfile\" : json.dumps(list(configs_mp)),\n",
    "    \"Valmod\" : json.dumps(list(configs_vm)),\n",
    "    \"Grammarviz\" : json.dumps(list(configs_gm)),\n",
    "}"
   ]
  },
  {
   "cell_type": "code",
   "execution_count": 4,
   "metadata": {},
   "outputs": [],
   "source": [
    "EXP_ID =0\n",
    "CONFIG_PATH = \"/Users/tgermain/Documents/code/Persistent Pattern Discovery/experiment/mitdb_800/configs/\"\n",
    "pth = CONFIG_PATH + f\"base_configs.json\""
   ]
  },
  {
   "cell_type": "code",
   "execution_count": 5,
   "metadata": {},
   "outputs": [],
   "source": [
    "with open(pth, \"w\") as f: \n",
    "    f = json.dump(config_dct,f)"
   ]
  },
  {
   "cell_type": "code",
   "execution_count": 6,
   "metadata": {},
   "outputs": [
    {
     "data": {
      "text/plain": [
       "{'BasePersistentPattern': '[{\"wlen\": 60, \"n_patterns\": 1, \"n_neighbors\": 5, \"n_jobs\": 10, \"beta\": 0, \"alpha\": 20}, {\"wlen\": 60, \"jump\": 1, \"n_neighbors\": 5, \"n_jobs\": 10, \"beta\": 0, \"alpha\": 20}]',\n",
       " 'Baseline': '[{\"distance_name\": \"NormalizedEuclidean\", \"n_jobs\": 20, \"n_patterns\": 1, \"radius\": 30, \"wlen\": 95}]',\n",
       " 'LatentMotif': '[{\"learning_rate\": 0.1, \"n_patterns\": 1, \"radius\": 10, \"wlen\": 95}]',\n",
       " 'MatrixProfile': '[{\"distance_name\": \"NormalizedEuclidean\", \"n_jobs\": 5, \"n_patterns\": 1, \"radius_ratio\": 15, \"wlen\": 95}]',\n",
       " 'Valmod': '[{\"distance_name\": \"NormalizedEuclidean\", \"max_wlen\": 120, \"min_wlen\": 80, \"n_jobs\": 10, \"n_patterns\": 1, \"radius_ratio\": 40, \"step\": 5}]',\n",
       " 'Grammarviz': '[{\"alphabet_size\": 4, \"n_patterns\": 1, \"numerosity\": \"MINDIST\", \"window_size\": 95, \"word_size\": 5}]'}"
      ]
     },
     "execution_count": 6,
     "metadata": {},
     "output_type": "execute_result"
    }
   ],
   "source": [
    "with open(pth, \"r\") as f: \n",
    "    configs = json.load(f)\n",
    "configs"
   ]
  }
 ],
 "metadata": {
  "kernelspec": {
   "display_name": "perspa",
   "language": "python",
   "name": "python3"
  },
  "language_info": {
   "codemirror_mode": {
    "name": "ipython",
    "version": 3
   },
   "file_extension": ".py",
   "mimetype": "text/x-python",
   "name": "python",
   "nbconvert_exporter": "python",
   "pygments_lexer": "ipython3",
   "version": "3.9.16"
  },
  "orig_nbformat": 4
 },
 "nbformat": 4,
 "nbformat_minor": 2
}
